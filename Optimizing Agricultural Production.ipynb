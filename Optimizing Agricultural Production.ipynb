{
 "cells": [
  {
   "cell_type": "markdown",
   "id": "2d666025",
   "metadata": {},
   "source": [
    "# Importing  libraries"
   ]
  },
  {
   "cell_type": "code",
   "execution_count": 1,
   "id": "14072a2a",
   "metadata": {},
   "outputs": [],
   "source": [
    "# for manipulations\n",
    "import numpy as np\n",
    "import pandas as pd\n",
    "\n",
    "# for data visualization\n",
    "import matplotlib.pyplot as plt\n",
    "import seaborn as sns\n",
    "\n",
    "# for interactivity \n",
    "from ipywidgets import interact"
   ]
  },
  {
   "cell_type": "code",
   "execution_count": 2,
   "id": "6f70982b",
   "metadata": {},
   "outputs": [],
   "source": [
    "#read the dataset\n",
    "Agri=pd.read_csv('data.csv')"
   ]
  },
  {
   "cell_type": "code",
   "execution_count": 3,
   "id": "19d40b78",
   "metadata": {},
   "outputs": [
    {
     "name": "stdout",
     "output_type": "stream",
     "text": [
      "Shape of the Dataset: (2200, 8)\n"
     ]
    }
   ],
   "source": [
    "#let us check the shape of the dataset\n",
    "d=Agri.shape\n",
    "print(\"Shape of the Dataset:\", d)"
   ]
  },
  {
   "cell_type": "code",
   "execution_count": 4,
   "id": "815c7f6b",
   "metadata": {},
   "outputs": [
    {
     "data": {
      "text/html": [
       "<div>\n",
       "<style scoped>\n",
       "    .dataframe tbody tr th:only-of-type {\n",
       "        vertical-align: middle;\n",
       "    }\n",
       "\n",
       "    .dataframe tbody tr th {\n",
       "        vertical-align: top;\n",
       "    }\n",
       "\n",
       "    .dataframe thead th {\n",
       "        text-align: right;\n",
       "    }\n",
       "</style>\n",
       "<table border=\"1\" class=\"dataframe\">\n",
       "  <thead>\n",
       "    <tr style=\"text-align: right;\">\n",
       "      <th></th>\n",
       "      <th>N</th>\n",
       "      <th>P</th>\n",
       "      <th>K</th>\n",
       "      <th>temperature</th>\n",
       "      <th>humidity</th>\n",
       "      <th>ph</th>\n",
       "      <th>rainfall</th>\n",
       "      <th>label</th>\n",
       "    </tr>\n",
       "  </thead>\n",
       "  <tbody>\n",
       "    <tr>\n",
       "      <th>0</th>\n",
       "      <td>90</td>\n",
       "      <td>42</td>\n",
       "      <td>43</td>\n",
       "      <td>20.879744</td>\n",
       "      <td>82.002744</td>\n",
       "      <td>6.502985</td>\n",
       "      <td>202.935536</td>\n",
       "      <td>rice</td>\n",
       "    </tr>\n",
       "    <tr>\n",
       "      <th>1</th>\n",
       "      <td>85</td>\n",
       "      <td>58</td>\n",
       "      <td>41</td>\n",
       "      <td>21.770462</td>\n",
       "      <td>80.319644</td>\n",
       "      <td>7.038096</td>\n",
       "      <td>226.655537</td>\n",
       "      <td>rice</td>\n",
       "    </tr>\n",
       "    <tr>\n",
       "      <th>2</th>\n",
       "      <td>60</td>\n",
       "      <td>55</td>\n",
       "      <td>44</td>\n",
       "      <td>23.004459</td>\n",
       "      <td>82.320763</td>\n",
       "      <td>7.840207</td>\n",
       "      <td>263.964248</td>\n",
       "      <td>rice</td>\n",
       "    </tr>\n",
       "    <tr>\n",
       "      <th>3</th>\n",
       "      <td>74</td>\n",
       "      <td>35</td>\n",
       "      <td>40</td>\n",
       "      <td>26.491096</td>\n",
       "      <td>80.158363</td>\n",
       "      <td>6.980401</td>\n",
       "      <td>242.864034</td>\n",
       "      <td>rice</td>\n",
       "    </tr>\n",
       "    <tr>\n",
       "      <th>4</th>\n",
       "      <td>78</td>\n",
       "      <td>42</td>\n",
       "      <td>42</td>\n",
       "      <td>20.130175</td>\n",
       "      <td>81.604873</td>\n",
       "      <td>7.628473</td>\n",
       "      <td>262.717340</td>\n",
       "      <td>rice</td>\n",
       "    </tr>\n",
       "  </tbody>\n",
       "</table>\n",
       "</div>"
      ],
      "text/plain": [
       "    N   P   K  temperature   humidity        ph    rainfall label\n",
       "0  90  42  43    20.879744  82.002744  6.502985  202.935536  rice\n",
       "1  85  58  41    21.770462  80.319644  7.038096  226.655537  rice\n",
       "2  60  55  44    23.004459  82.320763  7.840207  263.964248  rice\n",
       "3  74  35  40    26.491096  80.158363  6.980401  242.864034  rice\n",
       "4  78  42  42    20.130175  81.604873  7.628473  262.717340  rice"
      ]
     },
     "execution_count": 4,
     "metadata": {},
     "output_type": "execute_result"
    }
   ],
   "source": [
    "# lets us check the head of the dataset\n",
    "Agri.head()"
   ]
  },
  {
   "cell_type": "code",
   "execution_count": 5,
   "id": "62b393fa",
   "metadata": {},
   "outputs": [
    {
     "data": {
      "text/plain": [
       "N              0\n",
       "P              0\n",
       "K              0\n",
       "temperature    0\n",
       "humidity       0\n",
       "ph             0\n",
       "rainfall       0\n",
       "label          0\n",
       "dtype: int64"
      ]
     },
     "execution_count": 5,
     "metadata": {},
     "output_type": "execute_result"
    }
   ],
   "source": [
    "# let sus check the null value in the dataset\n",
    "Agri.isnull().sum()"
   ]
  },
  {
   "cell_type": "code",
   "execution_count": 6,
   "id": "470ce8d3",
   "metadata": {},
   "outputs": [],
   "source": [
    "# if you find the null value in the dataset and you want to fill that value then you \n",
    "# use the Fillna() method  with the statictical value of mean ,meadin and mode"
   ]
  },
  {
   "cell_type": "code",
   "execution_count": 7,
   "id": "306b66f5",
   "metadata": {},
   "outputs": [],
   "source": [
    "#mean :- Numerical value then use the mean for replace the missing value\n",
    "#meadin:- huge number of the outlier are present then sue meadin for replacing the missing value\n",
    "# mode:-Categorical value then use the mode for replace the missing value"
   ]
  },
  {
   "cell_type": "code",
   "execution_count": 8,
   "id": "e42eee3e",
   "metadata": {},
   "outputs": [
    {
     "data": {
      "text/plain": [
       "rice           100\n",
       "maize          100\n",
       "jute           100\n",
       "cotton         100\n",
       "coconut        100\n",
       "papaya         100\n",
       "orange         100\n",
       "apple          100\n",
       "muskmelon      100\n",
       "watermelon     100\n",
       "grapes         100\n",
       "mango          100\n",
       "banana         100\n",
       "pomegranate    100\n",
       "lentil         100\n",
       "blackgram      100\n",
       "mungbean       100\n",
       "mothbeans      100\n",
       "pigeonpeas     100\n",
       "kidneybeans    100\n",
       "chickpea       100\n",
       "coffee         100\n",
       "Name: label, dtype: int64"
      ]
     },
     "execution_count": 8,
     "metadata": {},
     "output_type": "execute_result"
    }
   ],
   "source": [
    "# lets check the Crops present in this dataset\n",
    "Agri[\"label\"].value_counts()"
   ]
  },
  {
   "cell_type": "code",
   "execution_count": 9,
   "id": "8882fb9a",
   "metadata": {},
   "outputs": [
    {
     "data": {
      "text/html": [
       "<div>\n",
       "<style scoped>\n",
       "    .dataframe tbody tr th:only-of-type {\n",
       "        vertical-align: middle;\n",
       "    }\n",
       "\n",
       "    .dataframe tbody tr th {\n",
       "        vertical-align: top;\n",
       "    }\n",
       "\n",
       "    .dataframe thead th {\n",
       "        text-align: right;\n",
       "    }\n",
       "</style>\n",
       "<table border=\"1\" class=\"dataframe\">\n",
       "  <thead>\n",
       "    <tr style=\"text-align: right;\">\n",
       "      <th></th>\n",
       "      <th>N</th>\n",
       "      <th>P</th>\n",
       "      <th>K</th>\n",
       "      <th>temperature</th>\n",
       "      <th>humidity</th>\n",
       "      <th>ph</th>\n",
       "      <th>rainfall</th>\n",
       "    </tr>\n",
       "  </thead>\n",
       "  <tbody>\n",
       "    <tr>\n",
       "      <th>count</th>\n",
       "      <td>2200.000000</td>\n",
       "      <td>2200.000000</td>\n",
       "      <td>2200.000000</td>\n",
       "      <td>2200.000000</td>\n",
       "      <td>2200.000000</td>\n",
       "      <td>2200.000000</td>\n",
       "      <td>2200.000000</td>\n",
       "    </tr>\n",
       "    <tr>\n",
       "      <th>mean</th>\n",
       "      <td>50.551818</td>\n",
       "      <td>53.362727</td>\n",
       "      <td>48.149091</td>\n",
       "      <td>25.616244</td>\n",
       "      <td>71.481779</td>\n",
       "      <td>6.469480</td>\n",
       "      <td>103.463655</td>\n",
       "    </tr>\n",
       "    <tr>\n",
       "      <th>std</th>\n",
       "      <td>36.917334</td>\n",
       "      <td>32.985883</td>\n",
       "      <td>50.647931</td>\n",
       "      <td>5.063749</td>\n",
       "      <td>22.263812</td>\n",
       "      <td>0.773938</td>\n",
       "      <td>54.958389</td>\n",
       "    </tr>\n",
       "    <tr>\n",
       "      <th>min</th>\n",
       "      <td>0.000000</td>\n",
       "      <td>5.000000</td>\n",
       "      <td>5.000000</td>\n",
       "      <td>8.825675</td>\n",
       "      <td>14.258040</td>\n",
       "      <td>3.504752</td>\n",
       "      <td>20.211267</td>\n",
       "    </tr>\n",
       "    <tr>\n",
       "      <th>25%</th>\n",
       "      <td>21.000000</td>\n",
       "      <td>28.000000</td>\n",
       "      <td>20.000000</td>\n",
       "      <td>22.769375</td>\n",
       "      <td>60.261953</td>\n",
       "      <td>5.971693</td>\n",
       "      <td>64.551686</td>\n",
       "    </tr>\n",
       "    <tr>\n",
       "      <th>50%</th>\n",
       "      <td>37.000000</td>\n",
       "      <td>51.000000</td>\n",
       "      <td>32.000000</td>\n",
       "      <td>25.598693</td>\n",
       "      <td>80.473146</td>\n",
       "      <td>6.425045</td>\n",
       "      <td>94.867624</td>\n",
       "    </tr>\n",
       "    <tr>\n",
       "      <th>75%</th>\n",
       "      <td>84.250000</td>\n",
       "      <td>68.000000</td>\n",
       "      <td>49.000000</td>\n",
       "      <td>28.561654</td>\n",
       "      <td>89.948771</td>\n",
       "      <td>6.923643</td>\n",
       "      <td>124.267508</td>\n",
       "    </tr>\n",
       "    <tr>\n",
       "      <th>max</th>\n",
       "      <td>140.000000</td>\n",
       "      <td>145.000000</td>\n",
       "      <td>205.000000</td>\n",
       "      <td>43.675493</td>\n",
       "      <td>99.981876</td>\n",
       "      <td>9.935091</td>\n",
       "      <td>298.560117</td>\n",
       "    </tr>\n",
       "  </tbody>\n",
       "</table>\n",
       "</div>"
      ],
      "text/plain": [
       "                 N            P            K  temperature     humidity  \\\n",
       "count  2200.000000  2200.000000  2200.000000  2200.000000  2200.000000   \n",
       "mean     50.551818    53.362727    48.149091    25.616244    71.481779   \n",
       "std      36.917334    32.985883    50.647931     5.063749    22.263812   \n",
       "min       0.000000     5.000000     5.000000     8.825675    14.258040   \n",
       "25%      21.000000    28.000000    20.000000    22.769375    60.261953   \n",
       "50%      37.000000    51.000000    32.000000    25.598693    80.473146   \n",
       "75%      84.250000    68.000000    49.000000    28.561654    89.948771   \n",
       "max     140.000000   145.000000   205.000000    43.675493    99.981876   \n",
       "\n",
       "                ph     rainfall  \n",
       "count  2200.000000  2200.000000  \n",
       "mean      6.469480   103.463655  \n",
       "std       0.773938    54.958389  \n",
       "min       3.504752    20.211267  \n",
       "25%       5.971693    64.551686  \n",
       "50%       6.425045    94.867624  \n",
       "75%       6.923643   124.267508  \n",
       "max       9.935091   298.560117  "
      ]
     },
     "execution_count": 9,
     "metadata": {},
     "output_type": "execute_result"
    }
   ],
   "source": [
    "# lets check the summary  for all the crop\n",
    "Agri.describe()"
   ]
  },
  {
   "cell_type": "code",
   "execution_count": 10,
   "id": "aaf06703",
   "metadata": {},
   "outputs": [
    {
     "data": {
      "application/vnd.jupyter.widget-view+json": {
       "model_id": "363ae54785d54122abc4b035829c62f1",
       "version_major": 2,
       "version_minor": 0
      },
      "text/plain": [
       "interactive(children=(Dropdown(description='crops', options=('rice', 'maize', 'jute', 'cotton', 'coconut', 'pa…"
      ]
     },
     "metadata": {},
     "output_type": "display_data"
    }
   ],
   "source": [
    "#let us check the summary for each of the crops\n",
    "@interact\n",
    "def summary(crops=list(Agri['label'].value_counts().index)):\n",
    "    x=Agri[Agri['label']==crops]\n",
    "    print(\"-------------------------------------------------------\")\n",
    "    print('Statistics For Nitrogen')\n",
    "    print(\"Minimum Nitrogen requried: \", x['N'].min())\n",
    "    print(\"Average Nitrogen requried: \", x['N'].mean())\n",
    "    print(\"Maximum Nitrogen requried: \", x['N'].max())\n",
    "    \n",
    "    print(\"-------------------------------------------------------\")\n",
    "    print('Statistics For Phosphorous')\n",
    "    print(\"Minimum Phosphorous requried: \", x['P'].min())\n",
    "    print(\"Average Phosphorous requried: \", x['P'].mean())\n",
    "    print(\"Maximum Phosphorous requried: \", x['P'].max())\n",
    "    \n",
    "    print(\"-------------------------------------------------------\")\n",
    "    print('Statistics For Potassium')\n",
    "    print(\"Minimum Potassium requried: \", x['K'].min())\n",
    "    print(\"Average Potassium requried: \", x['K'].mean())\n",
    "    print(\"Maximum Potassium requried: \", x['K'].max())\n",
    "    \n",
    "    print(\"-------------------------------------------------------\")\n",
    "    print('Statistics For temperature')\n",
    "    print(\"Minimum temperature requried: \", x['temperature'].min())\n",
    "    print(\"Average temperature requried: \", x['temperature'].mean())\n",
    "    print(\"Maximum temperature requried: \", x['temperature'].max())\n",
    "    \n",
    "    print(\"-------------------------------------------------------\")\n",
    "    print('Statistics For humidity')\n",
    "    print(\"Minimum humidity requried: \", x['humidity'].min())\n",
    "    print(\"Average humidity requried: \", x['humidity'].mean())\n",
    "    print(\"Maximum humidity requried: \", x['humidity'].max())\n",
    "    \n",
    "    print(\"-------------------------------------------------------\")\n",
    "    print('Statistics For ph')\n",
    "    print(\"Minimum ph requried: \", x['ph'].min())\n",
    "    print(\"Average ph requried: \", x['ph'].mean())\n",
    "    print(\"Maximum ph requried: \", x['ph'].max())\n",
    "    \n",
    "    print(\"-------------------------------------------------------\")\n",
    "    print('Statistics For rainfall')\n",
    "    print(\"Minimum rainfall requried: \", x['rainfall'].min())\n",
    "    print(\"Average rainfall requried: \", x['rainfall'].mean())\n",
    "    print(\"Maximum rainfall requried: \", x['rainfall'].max())"
   ]
  },
  {
   "cell_type": "code",
   "execution_count": 11,
   "id": "4608ee87",
   "metadata": {},
   "outputs": [
    {
     "data": {
      "application/vnd.jupyter.widget-view+json": {
       "model_id": "21fb8b1193ba4cdb804a4c2a0b8731e5",
       "version_major": 2,
       "version_minor": 0
      },
      "text/plain": [
       "interactive(children=(Dropdown(description='conditions', options=('N', 'P', 'K', 'temperature', 'ph', 'humidit…"
      ]
     },
     "metadata": {},
     "output_type": "display_data"
    }
   ],
   "source": [
    "## Lets compare the Average Requirement for each crops with average conditions and print it\n",
    "\n",
    "@interact\n",
    "def compare(conditions = ['N', 'P','K', 'temperature', 'ph', 'humidity', 'rainfall']): \n",
    "    print(\"Average value for\", conditions, \"is {0:.2f}\".format(Agri[conditions].mean()))\n",
    "    print(\"................................................................\")\n",
    "    print(\"Rice: {0:.2f}\".format(Agri[(Agri['label']=='rice')][conditions].mean()))\n",
    "    print(\"maize: {0:.2f}\".format(Agri[(Agri['label'] == \"maize\")][conditions].mean()))\n",
    "    print(\"Banana: {0:.2f}\".format(Agri[(Agri[\"label\"]== \"banana\")] [conditions].mean())) \n",
    "    print(\"Jute: {0:.2f}\".format(Agri[(Agri['label']== \"jute\")][conditions].mean()))\n",
    "    print(\"Coconut: {0:.2f}\".format(Agri[(Agri[\"label\"]==\"coconut\")] [conditions].mean()))\n",
    "    print(\"Apple: {0:.2f}\".format(Agri[(Agri[\"label\"] == \"apple\")][conditions].mean())) \n",
    "    print(\"Papaya: {0:.2f}\".format(Agri[(Agri['label'] == \"papaya\")] [conditions].mean()))\n",
    "    print(\"Muskmelon: {0:.2f}\".format(Agri[(Agri[\"label\"] == \"muskmelon\" )][conditions].mean()))\n",
    "    print(\"Grapes: {0:.2f}\".format(Agri[(Agri[\"label\"]=='grapes')][conditions].mean()))\n",
    "    print(\"watermelon: {0:.2f}\".format(Agri[(Agri[\"label\"] == \"watermelon\")][conditions].mean()))\n",
    "    print(\"kidney Beans: {0:.2f}\".format(Agri[(Agri[\"label\"] == 'kidneybeans')][conditions].mean())) \n",
    "    print(\"Mung Beans: {0:.2f}\".format(Agri[(Agri[\"label\"]== \"mungbean\")][conditions].mean()))\n",
    "    print(\"Chick Peas: {0:.2f}\".format(Agri[(Agri[\"label\"] =='chickpea')] [conditions].mean()))\n",
    "    print(\"lentil: {0:.2f}\".format(Agri[(Agri[\"label\"] =='lentil')] [conditions].mean()))\n",
    "    print(\"blackgram  : {0:.2f}\".format(Agri[(Agri[\"label\"] =='blackgram')] [conditions].mean()))\n",
    "    print(\"orange : {0:.2f}\".format(Agri[(Agri[\"label\"] =='orange')] [conditions].mean()))\n",
    "    print(\"cotton  : {0:.2f}\".format(Agri[(Agri[\"label\"] =='cotton')] [conditions].mean()))\n",
    "    print(\"pomegranate : {0:.2f}\".format(Agri[(Agri[\"label\"] =='pomegranate')] [conditions].mean()))\n",
    "    print(\"mango :{0:.2f}\".format(Agri[(Agri[\"label\"] =='mango')] [conditions].mean()))\n",
    "    print(\"mothbeans: {0:.2f}\".format(Agri[(Agri[\"label\"] =='mothbeans')] [conditions].mean()))\n",
    "    print(\"pigeonpeas: {0:.2f}\".format(Agri[(Agri[\"label\"] =='pigeonpeas')] [conditions].mean()))\n",
    "    print(\"coffee : {0:.2f}\".format(Agri[(Agri[\"label\"] =='coffee')] [conditions].mean()))"
   ]
  },
  {
   "cell_type": "code",
   "execution_count": 12,
   "id": "9358028f",
   "metadata": {},
   "outputs": [
    {
     "data": {
      "application/vnd.jupyter.widget-view+json": {
       "model_id": "2e85a55d2bf0437689852b80260e5813",
       "version_major": 2,
       "version_minor": 0
      },
      "text/plain": [
       "interactive(children=(Dropdown(description='conditions', options=('N', 'P', 'K', 'temperature', 'ph', 'humidit…"
      ]
     },
     "metadata": {},
     "output_type": "display_data"
    }
   ],
   "source": [
    "# lets make this function more intuitive\n",
    "\n",
    "@interact\n",
    "def compare(conditions = ['N', 'P','K', 'temperature', 'ph', 'humidity', 'rainfall']): \n",
    "    print(\"Crops which requried greater than average \", conditions,\"\\n\")\n",
    "    print(Agri[Agri[conditions]>Agri[conditions].mean()]['label'].unique())\n",
    "    print(\"................................................................\")\n",
    "    print(\"Crops which requried less than average \", conditions,\"\\n\")\n",
    "    print(Agri[Agri[conditions]<=Agri[conditions].mean()]['label'].unique())\n",
    "    "
   ]
  },
  {
   "cell_type": "markdown",
   "id": "91a99f1a",
   "metadata": {},
   "source": [
    "# Distribution \n",
    "#check the distribution of the soil and other climatic condition for the different crops present in the dataset"
   ]
  },
  {
   "cell_type": "code",
   "execution_count": 13,
   "id": "c6dec7b9",
   "metadata": {},
   "outputs": [
    {
     "name": "stderr",
     "output_type": "stream",
     "text": [
      "C:\\Users\\suraj\\AppData\\Local\\Temp\\ipykernel_25960\\1763841837.py:6: MatplotlibDeprecationWarning: Auto-removal of overlapping axes is deprecated since 3.6 and will be removed two minor releases later; explicitly call ax.remove() as needed.\n",
      "  plt.subplot(2,4,1)\n",
      "C:\\Users\\suraj\\AppData\\Local\\Temp\\ipykernel_25960\\1763841837.py:7: UserWarning: \n",
      "\n",
      "`distplot` is a deprecated function and will be removed in seaborn v0.14.0.\n",
      "\n",
      "Please adapt your code to use either `displot` (a figure-level function with\n",
      "similar flexibility) or `histplot` (an axes-level function for histograms).\n",
      "\n",
      "For a guide to updating your code to use the new functions, please see\n",
      "https://gist.github.com/mwaskom/de44147ed2974457ad6372750bbe5751\n",
      "\n",
      "  sns.distplot(Agri['N'],color='lightgrey')\n",
      "C:\\Users\\suraj\\AppData\\Local\\Temp\\ipykernel_25960\\1763841837.py:12: UserWarning: \n",
      "\n",
      "`distplot` is a deprecated function and will be removed in seaborn v0.14.0.\n",
      "\n",
      "Please adapt your code to use either `displot` (a figure-level function with\n",
      "similar flexibility) or `histplot` (an axes-level function for histograms).\n",
      "\n",
      "For a guide to updating your code to use the new functions, please see\n",
      "https://gist.github.com/mwaskom/de44147ed2974457ad6372750bbe5751\n",
      "\n",
      "  sns.distplot(Agri['P'],color='skyblue')\n",
      "C:\\Users\\suraj\\AppData\\Local\\Temp\\ipykernel_25960\\1763841837.py:17: UserWarning: \n",
      "\n",
      "`distplot` is a deprecated function and will be removed in seaborn v0.14.0.\n",
      "\n",
      "Please adapt your code to use either `displot` (a figure-level function with\n",
      "similar flexibility) or `histplot` (an axes-level function for histograms).\n",
      "\n",
      "For a guide to updating your code to use the new functions, please see\n",
      "https://gist.github.com/mwaskom/de44147ed2974457ad6372750bbe5751\n",
      "\n",
      "  sns.distplot(Agri['K'],color='darkblue')\n",
      "C:\\Users\\suraj\\AppData\\Local\\Temp\\ipykernel_25960\\1763841837.py:22: UserWarning: \n",
      "\n",
      "`distplot` is a deprecated function and will be removed in seaborn v0.14.0.\n",
      "\n",
      "Please adapt your code to use either `displot` (a figure-level function with\n",
      "similar flexibility) or `histplot` (an axes-level function for histograms).\n",
      "\n",
      "For a guide to updating your code to use the new functions, please see\n",
      "https://gist.github.com/mwaskom/de44147ed2974457ad6372750bbe5751\n",
      "\n",
      "  sns.distplot(Agri['temperature'],color='grey')\n",
      "C:\\Users\\suraj\\AppData\\Local\\Temp\\ipykernel_25960\\1763841837.py:27: UserWarning: \n",
      "\n",
      "`distplot` is a deprecated function and will be removed in seaborn v0.14.0.\n",
      "\n",
      "Please adapt your code to use either `displot` (a figure-level function with\n",
      "similar flexibility) or `histplot` (an axes-level function for histograms).\n",
      "\n",
      "For a guide to updating your code to use the new functions, please see\n",
      "https://gist.github.com/mwaskom/de44147ed2974457ad6372750bbe5751\n",
      "\n",
      "  sns.distplot(Agri['ph'],color='blue')\n",
      "C:\\Users\\suraj\\AppData\\Local\\Temp\\ipykernel_25960\\1763841837.py:32: UserWarning: \n",
      "\n",
      "`distplot` is a deprecated function and will be removed in seaborn v0.14.0.\n",
      "\n",
      "Please adapt your code to use either `displot` (a figure-level function with\n",
      "similar flexibility) or `histplot` (an axes-level function for histograms).\n",
      "\n",
      "For a guide to updating your code to use the new functions, please see\n",
      "https://gist.github.com/mwaskom/de44147ed2974457ad6372750bbe5751\n",
      "\n",
      "  sns.distplot(Agri['humidity'],color='lightgreen')\n",
      "C:\\Users\\suraj\\AppData\\Local\\Temp\\ipykernel_25960\\1763841837.py:37: UserWarning: \n",
      "\n",
      "`distplot` is a deprecated function and will be removed in seaborn v0.14.0.\n",
      "\n",
      "Please adapt your code to use either `displot` (a figure-level function with\n",
      "similar flexibility) or `histplot` (an axes-level function for histograms).\n",
      "\n",
      "For a guide to updating your code to use the new functions, please see\n",
      "https://gist.github.com/mwaskom/de44147ed2974457ad6372750bbe5751\n",
      "\n",
      "  sns.distplot(Agri['rainfall'],color='darkgreen')\n"
     ]
    },
    {
     "data": {
      "image/png": "[encoded data removed]",
      "text/plain": [
       "<Figure size 1500x700 with 7 Axes>"
      ]
     },
     "metadata": {},
     "output_type": "display_data"
    }
   ],
   "source": [
    "#lets check the distribution of Agriculture Condition\n",
    "\n",
    "plt.rcParams['figure.figsize']=(15,7)\n",
    "plt.title('\"Distribution for Agricultural Conditions', fontsize = 20)\n",
    "\n",
    "plt.subplot(2,4,1)\n",
    "sns.distplot(Agri['N'],color='lightgrey')\n",
    "plt.xlabel('Ratio of Nitrogen', fontsize=12)\n",
    "plt.grid()\n",
    "\n",
    "plt.subplot(2,4,2)\n",
    "sns.distplot(Agri['P'],color='skyblue')\n",
    "plt.xlabel('Ratio of Phosphorous', fontsize=12)\n",
    "plt.grid()\n",
    "\n",
    "plt.subplot(2,4,3)\n",
    "sns.distplot(Agri['K'],color='darkblue')\n",
    "plt.xlabel('Ratio of potassium ', fontsize=12)\n",
    "plt.grid()\n",
    "\n",
    "plt.subplot(2,4,4)\n",
    "sns.distplot(Agri['temperature'],color='grey')\n",
    "plt.xlabel('Ratio of temperature', fontsize=12)\n",
    "plt.grid()\n",
    "\n",
    "plt.subplot(2,4,5)\n",
    "sns.distplot(Agri['ph'],color='blue')\n",
    "plt.xlabel('Ratio of ph', fontsize=12)\n",
    "plt.grid()\n",
    "\n",
    "plt.subplot(2,4,6)\n",
    "sns.distplot(Agri['humidity'],color='lightgreen')\n",
    "plt.xlabel('Ratio of humidity', fontsize=12)\n",
    "plt.grid()\n",
    "\n",
    "plt.subplot(2,4,7)\n",
    "sns.distplot(Agri['rainfall'],color='darkgreen')\n",
    "plt.xlabel('Ratio of rainfall', fontsize=12)\n",
    "plt.grid()\n"
   ]
  },
  {
   "cell_type": "code",
   "execution_count": 14,
   "id": "53dd79f1",
   "metadata": {},
   "outputs": [
    {
     "name": "stdout",
     "output_type": "stream",
     "text": [
      "Some Interesting Patterns\n",
      "------------------------------------------------------------\n",
      "Crops which requires very High Ratio of Nitrogen Content in Soil: ['cotton']\n",
      "Crops which requires very High Ratio of Phosphorous Content in Soil: ['grapes' 'apple']\n",
      "Crops which requires very High Ratio of Potassium Content in soil: ['grapes' 'apple']\n",
      "Crops which requires very High Rainfall: ['rice' 'papaya' 'coconut']\n",
      "Crops which requires very Low Temperature ['grapes']\n",
      "Crops which requires very High Temperature []\n",
      "Crops which requires very Low Humidity: ['chickpea' 'kidneybeans']\n",
      "Crops which requires very Low pH: ['mothbeans']\n",
      "Crops which requires very High pH: ['mothbeans']\n"
     ]
    }
   ],
   "source": [
    "#lets uus find out some Interesting pattern\n",
    "print(\"Some Interesting Patterns\")\n",
    "print(\"------------------------------------------------------------\")\n",
    "print(\"Crops which requires very High Ratio of Nitrogen Content in Soil:\", Agri[Agri['N'] > 120]['label'].unique())\n",
    "print(\"Crops which requires very High Ratio of Phosphorous Content in Soil:\", Agri[Agri['P'] > 100]['label'].unique())\n",
    "print(\"Crops which requires very High Ratio of Potassium Content in soil:\", Agri [Agri['K'] > 200]['label'].unique())\n",
    "print(\"Crops which requires very High Rainfall:\", Agri[Agri['rainfall'] >200]['label'].unique()) \n",
    "print(\"Crops which requires very Low Temperature\", Agri[Agri['temperature'] <10]['label'].unique())\n",
    "print(\"Crops which requires very High Temperature\", Agri[Agri['temperature'] > 48]['label'].unique())\n",
    "print(\"Crops which requires very Low Humidity:\", Agri[Agri['humidity'] <20]['label'].unique())\n",
    "print(\"Crops which requires very Low pH:\", Agri[Agri['ph'] < 4]['label'].unique())\n",
    "print(\"Crops which requires very High pH:\", Agri[Agri['ph'] > 9]['label'].unique())"
   ]
  },
  {
   "cell_type": "code",
   "execution_count": 15,
   "id": "df0fb9d3",
   "metadata": {},
   "outputs": [
    {
     "name": "stdout",
     "output_type": "stream",
     "text": [
      "Summer Crops\n",
      "['pigeonpeas' 'mothbeans' 'blackgram' 'mango' 'grapes' 'orange' 'papaya']\n",
      "..................................................................\n",
      "Winter Crops\n",
      "['maize' 'pigeonpeas' 'lentil' 'pomegranate' 'grapes' 'orange']\n",
      "..................................................................\n",
      "Rainy Crops\n",
      "['rice' 'papaya' 'coconut']\n"
     ]
    }
   ],
   "source": [
    "## Lets understand which crops can only be Grown in Summer Season, Winter Season and Rainy Season\n",
    "\n",
    "print(\"Summer Crops\")\n",
    "print(Agri[(Agri['temperature']> 30) & (Agri['humidity']> 50)]['label'].unique())\n",
    "print(\"..................................................................\")\n",
    "print(\"Winter Crops\")\n",
    "print(Agri[(Agri['temperature'] <20) & (Agri['humidity'] > 30)]['label'].unique())\n",
    "print(\"..................................................................\")\n",
    "print(\"Rainy Crops\")\n",
    "print(Agri[(Agri['rainfall'] > 200) & (Agri['humidity'] > 30)] ['label'].unique())"
   ]
  },
  {
   "cell_type": "code",
   "execution_count": 16,
   "id": "84871cf3",
   "metadata": {},
   "outputs": [],
   "source": [
    "#clustering analysis:-finding out the similar crops so it can help farmer for alternative farming\n",
    "#clustering:-is the techqniue in which the relative datapoint are classified in the same group called as cluster, unsuperwiesed learning means no need to provide any labeling to the data\n",
    "#k- means algorithum which is inside the sklearn library"
   ]
  },
  {
   "cell_type": "code",
   "execution_count": 18,
   "id": "9893062c",
   "metadata": {},
   "outputs": [
    {
     "name": "stdout",
     "output_type": "stream",
     "text": [
      "(2200, 7)\n"
     ]
    },
    {
     "data": {
      "text/html": [
       "<div>\n",
       "<style scoped>\n",
       "    .dataframe tbody tr th:only-of-type {\n",
       "        vertical-align: middle;\n",
       "    }\n",
       "\n",
       "    .dataframe tbody tr th {\n",
       "        vertical-align: top;\n",
       "    }\n",
       "\n",
       "    .dataframe thead th {\n",
       "        text-align: right;\n",
       "    }\n",
       "</style>\n",
       "<table border=\"1\" class=\"dataframe\">\n",
       "  <thead>\n",
       "    <tr style=\"text-align: right;\">\n",
       "      <th></th>\n",
       "      <th>0</th>\n",
       "      <th>1</th>\n",
       "      <th>2</th>\n",
       "      <th>3</th>\n",
       "      <th>4</th>\n",
       "      <th>5</th>\n",
       "      <th>6</th>\n",
       "    </tr>\n",
       "  </thead>\n",
       "  <tbody>\n",
       "    <tr>\n",
       "      <th>0</th>\n",
       "      <td>90.0</td>\n",
       "      <td>42.0</td>\n",
       "      <td>43.0</td>\n",
       "      <td>20.879744</td>\n",
       "      <td>6.502985</td>\n",
       "      <td>82.002744</td>\n",
       "      <td>202.935536</td>\n",
       "    </tr>\n",
       "    <tr>\n",
       "      <th>1</th>\n",
       "      <td>85.0</td>\n",
       "      <td>58.0</td>\n",
       "      <td>41.0</td>\n",
       "      <td>21.770462</td>\n",
       "      <td>7.038096</td>\n",
       "      <td>80.319644</td>\n",
       "      <td>226.655537</td>\n",
       "    </tr>\n",
       "    <tr>\n",
       "      <th>2</th>\n",
       "      <td>60.0</td>\n",
       "      <td>55.0</td>\n",
       "      <td>44.0</td>\n",
       "      <td>23.004459</td>\n",
       "      <td>7.840207</td>\n",
       "      <td>82.320763</td>\n",
       "      <td>263.964248</td>\n",
       "    </tr>\n",
       "    <tr>\n",
       "      <th>3</th>\n",
       "      <td>74.0</td>\n",
       "      <td>35.0</td>\n",
       "      <td>40.0</td>\n",
       "      <td>26.491096</td>\n",
       "      <td>6.980401</td>\n",
       "      <td>80.158363</td>\n",
       "      <td>242.864034</td>\n",
       "    </tr>\n",
       "    <tr>\n",
       "      <th>4</th>\n",
       "      <td>78.0</td>\n",
       "      <td>42.0</td>\n",
       "      <td>42.0</td>\n",
       "      <td>20.130175</td>\n",
       "      <td>7.628473</td>\n",
       "      <td>81.604873</td>\n",
       "      <td>262.717340</td>\n",
       "    </tr>\n",
       "  </tbody>\n",
       "</table>\n",
       "</div>"
      ],
      "text/plain": [
       "      0     1     2          3         4          5           6\n",
       "0  90.0  42.0  43.0  20.879744  6.502985  82.002744  202.935536\n",
       "1  85.0  58.0  41.0  21.770462  7.038096  80.319644  226.655537\n",
       "2  60.0  55.0  44.0  23.004459  7.840207  82.320763  263.964248\n",
       "3  74.0  35.0  40.0  26.491096  6.980401  80.158363  242.864034\n",
       "4  78.0  42.0  42.0  20.130175  7.628473  81.604873  262.717340"
      ]
     },
     "execution_count": 18,
     "metadata": {},
     "output_type": "execute_result"
    }
   ],
   "source": [
    "#lets try the to clusterr these crops\n",
    "# lets import the warning libaray so that we can avoid warning\n",
    "from sklearn.cluster import KMeans\n",
    "import warnings\n",
    "warnings.filterwarnings('ignore')\n",
    "\n",
    "#lets select the spending score and annula income columns from the data\n",
    "x= Agri.loc[:,['N', 'P','K', 'temperature', 'ph', 'humidity', 'rainfall']].values\n",
    "\n",
    "\n",
    "# lets check the shape of x\n",
    "print(x.shape)\n",
    "# lets convert this data into dataframe\n",
    "x_data=pd.DataFrame(x)\n",
    "x_data.head()\n"
   ]
  },
  {
   "cell_type": "code",
   "execution_count": 19,
   "id": "46875a29",
   "metadata": {},
   "outputs": [],
   "source": [
    "#unsuperviesd model does not requried any label column so we remove the label column from the dataset by using the drop function\n"
   ]
  },
  {
   "cell_type": "code",
   "execution_count": 19,
   "id": "07fd924f",
   "metadata": {},
   "outputs": [
    {
     "data": {
      "image/png": "[encoded data removed]",
      "text/plain": [
       "<Figure size 1000x400 with 1 Axes>"
      ]
     },
     "metadata": {},
     "output_type": "display_data"
    }
   ],
   "source": [
    "\n",
    "#lets determine the Optimum Number of Clusters within the Dataset\n",
    "\n",
    "plt.rcParams['figure.figsize'] = (10, 4)\n",
    "\n",
    "wcss = []\n",
    "for i in range(1, 11):\n",
    "    km= KMeans(n_clusters=i, init= \"k-means++\", max_iter =300, n_init= 10, random_state = 0)\n",
    "    km.fit(x)\n",
    "    wcss.append(km.inertia_)\n",
    "    \n",
    "    \n",
    "#Lets plot the results\n",
    "plt.plot(range(1, 11), wcss)\n",
    "plt.title('The Elbow Method', fontsize = 20)\n",
    "plt.xlabel('No. of Clusters')\n",
    "plt.ylabel('wcss')\n",
    "plt.show()\n"
   ]
  },
  {
   "cell_type": "code",
   "execution_count": 21,
   "id": "4bb33575",
   "metadata": {},
   "outputs": [
    {
     "name": "stdout",
     "output_type": "stream",
     "text": [
      "Lets check the Results After Applying the K Means Clustering Analysis \n",
      "\n",
      "Crops in First Cluster: ['maize' 'chickpea' 'kidneybeans' 'pigeonpeas' 'mothbeans' 'mungbean'\n",
      " 'blackgram' 'lentil' 'pomegranate' 'mango' 'orange' 'papaya' 'coconut']\n",
      "-----------------------------------------------------------------------\n",
      "Crops in Second cluster: ['maize' 'banana' 'watermelon' 'muskmelon' 'papaya' 'cotton' 'coffee']\n",
      "----------------------------------------------------------------------\n",
      "Crops in Third Cluster: ['grapes' 'apple']\n",
      "------------------------------------------------------------------------\n",
      "Crops in Forth Cluster: ['rice' 'pigeonpeas' 'papaya' 'coconut' 'jute' 'coffee']\n"
     ]
    }
   ],
   "source": [
    "#lets implement the K Means algorithm to perform clustering analysis\n",
    "\n",
    "km = KMeans(n_clusters = 4, init ='k-means++', max_iter= 300, n_init= 10, random_state = 0)\n",
    "y_means= km.fit_predict(x)\n",
    "\n",
    "\n",
    "#lets find out the Results\n",
    "a=Agri['label']\n",
    "y_means= pd.DataFrame(y_means)\n",
    "z= pd.concat([y_means, a], axis = 1)\n",
    "z=z.rename(columns = {0: 'cluster'})\n",
    "\n",
    "#Lets check the Clusters of each Crops\n",
    "print(\"Lets check the Results After Applying the K Means Clustering Analysis \\n\")\n",
    "print(\"Crops in First Cluster:\", z[z['cluster'] == 0] ['label'].unique())\n",
    "print(\"-----------------------------------------------------------------------\")\n",
    "print(\"Crops in Second cluster:\", z[z['cluster'] == 1]['label'].unique())\n",
    "print(\"----------------------------------------------------------------------\")\n",
    "print(\"Crops in Third Cluster:\", z[z['cluster'] == 2] ['label'].unique()) \n",
    "print(\"------------------------------------------------------------------------\")\n",
    "print(\"Crops in Forth Cluster:\", z[z['cluster'] == 3] ['label'].unique())"
   ]
  },
  {
   "cell_type": "code",
   "execution_count": 22,
   "id": "cc90b22b",
   "metadata": {},
   "outputs": [],
   "source": [
    "#logistic Regression model\n"
   ]
  },
  {
   "cell_type": "code",
   "execution_count": 23,
   "id": "2dc5813e",
   "metadata": {},
   "outputs": [
    {
     "name": "stdout",
     "output_type": "stream",
     "text": [
      "Shape of x: (2200, 7)\n",
      "Shape of y: (2200,)\n"
     ]
    }
   ],
   "source": [
    "#lets split the dataset for Predictive modelling\n",
    "y = Agri['label']\n",
    "x= Agri.drop(['label'], axis=1)\n",
    "\n",
    "print(\"Shape of x:\", x.shape)\n",
    "print(\"Shape of y:\", y.shape)"
   ]
  },
  {
   "cell_type": "code",
   "execution_count": 24,
   "id": "3fec9f59",
   "metadata": {},
   "outputs": [
    {
     "name": "stdout",
     "output_type": "stream",
     "text": [
      "The Shape of x Train: (1760, 7)\n",
      "The Shape of x Test: (440, 7)\n",
      "The Shape of y Train: (1760,)\n",
      "The Shape of y Test: (440,)\n"
     ]
    }
   ],
   "source": [
    "#lets create Traning And testing sets for validation of results\n",
    "from sklearn.model_selection import train_test_split\n",
    "\n",
    "x_train, x_test, y_train,y_test= train_test_split(x,y,test_size=0.2, random_state=0)\n",
    "\n",
    "print(\"The Shape of x Train:\", x_train.shape)\n",
    "print(\"The Shape of x Test:\", x_test.shape)\n",
    "print(\"The Shape of y Train:\", y_train.shape)\n",
    "print(\"The Shape of y Test:\", y_test.shape)"
   ]
  },
  {
   "cell_type": "code",
   "execution_count": 25,
   "id": "f9c78979",
   "metadata": {},
   "outputs": [],
   "source": [
    "#lets create a Predictive Model\n",
    "\n",
    "from sklearn .linear_model import LogisticRegression\n",
    "\n",
    "model=LogisticRegression()\n",
    "model.fit(x_train, y_train)\n",
    "y_pred= model.predict(x_test)"
   ]
  },
  {
   "cell_type": "code",
   "execution_count": 26,
   "id": "d905f6d9",
   "metadata": {},
   "outputs": [
    {
     "name": "stdout",
     "output_type": "stream",
     "text": [
      "              precision    recall  f1-score   support\n",
      "\n",
      "       apple       1.00      1.00      1.00        18\n",
      "      banana       1.00      1.00      1.00        18\n",
      "   blackgram       0.86      0.82      0.84        22\n",
      "    chickpea       1.00      1.00      1.00        23\n",
      "     coconut       1.00      1.00      1.00        15\n",
      "      coffee       1.00      1.00      1.00        17\n",
      "      cotton       0.89      1.00      0.94        16\n",
      "      grapes       1.00      1.00      1.00        18\n",
      "        jute       0.84      1.00      0.91        21\n",
      " kidneybeans       1.00      1.00      1.00        20\n",
      "      lentil       0.94      0.94      0.94        17\n",
      "       maize       0.94      0.89      0.91        18\n",
      "       mango       1.00      1.00      1.00        21\n",
      "   mothbeans       0.88      0.92      0.90        25\n",
      "    mungbean       1.00      1.00      1.00        17\n",
      "   muskmelon       1.00      1.00      1.00        23\n",
      "      orange       1.00      1.00      1.00        23\n",
      "      papaya       1.00      0.95      0.98        21\n",
      "  pigeonpeas       1.00      1.00      1.00        22\n",
      " pomegranate       1.00      1.00      1.00        23\n",
      "        rice       1.00      0.84      0.91        25\n",
      "  watermelon       1.00      1.00      1.00        17\n",
      "\n",
      "    accuracy                           0.97       440\n",
      "   macro avg       0.97      0.97      0.97       440\n",
      "weighted avg       0.97      0.97      0.97       440\n",
      "\n"
     ]
    }
   ],
   "source": [
    "#model is train now you can make the prediction by using the testing set\n",
    "#classification report\n",
    "# lets evaluate the Model Performance\n",
    "from sklearn.metrics import classification_report\n",
    "\n",
    "# LETS  print the classification report also\n",
    "cr= classification_report(y_test, y_pred)\n",
    "print(cr)"
   ]
  },
  {
   "cell_type": "code",
   "execution_count": 27,
   "id": "466ee009",
   "metadata": {},
   "outputs": [],
   "source": [
    "# from the above report we can say for 22 classes has very high precision and recall \n",
    "#so we can say that the model is highly accurate"
   ]
  },
  {
   "cell_type": "code",
   "execution_count": 28,
   "id": "cd4dffbc",
   "metadata": {},
   "outputs": [],
   "source": [
    "#realtime  predication\n",
    "# give only the soil and climatic condition information for the specific region and get the result so we get the which crop is most sutaible \n",
    "# for that region\n",
    "# to check the model prediction we can check from the dataset give the input from the dataset and get the accuurate crop or not check\n",
    "#"
   ]
  },
  {
   "cell_type": "code",
   "execution_count": 29,
   "id": "40547407",
   "metadata": {},
   "outputs": [
    {
     "data": {
      "text/html": [
       "<div>\n",
       "<style scoped>\n",
       "    .dataframe tbody tr th:only-of-type {\n",
       "        vertical-align: middle;\n",
       "    }\n",
       "\n",
       "    .dataframe tbody tr th {\n",
       "        vertical-align: top;\n",
       "    }\n",
       "\n",
       "    .dataframe thead th {\n",
       "        text-align: right;\n",
       "    }\n",
       "</style>\n",
       "<table border=\"1\" class=\"dataframe\">\n",
       "  <thead>\n",
       "    <tr style=\"text-align: right;\">\n",
       "      <th></th>\n",
       "      <th>N</th>\n",
       "      <th>P</th>\n",
       "      <th>K</th>\n",
       "      <th>temperature</th>\n",
       "      <th>humidity</th>\n",
       "      <th>ph</th>\n",
       "      <th>rainfall</th>\n",
       "      <th>label</th>\n",
       "    </tr>\n",
       "  </thead>\n",
       "  <tbody>\n",
       "    <tr>\n",
       "      <th>0</th>\n",
       "      <td>90</td>\n",
       "      <td>42</td>\n",
       "      <td>43</td>\n",
       "      <td>20.879744</td>\n",
       "      <td>82.002744</td>\n",
       "      <td>6.502985</td>\n",
       "      <td>202.935536</td>\n",
       "      <td>rice</td>\n",
       "    </tr>\n",
       "    <tr>\n",
       "      <th>1</th>\n",
       "      <td>85</td>\n",
       "      <td>58</td>\n",
       "      <td>41</td>\n",
       "      <td>21.770462</td>\n",
       "      <td>80.319644</td>\n",
       "      <td>7.038096</td>\n",
       "      <td>226.655537</td>\n",
       "      <td>rice</td>\n",
       "    </tr>\n",
       "    <tr>\n",
       "      <th>2</th>\n",
       "      <td>60</td>\n",
       "      <td>55</td>\n",
       "      <td>44</td>\n",
       "      <td>23.004459</td>\n",
       "      <td>82.320763</td>\n",
       "      <td>7.840207</td>\n",
       "      <td>263.964248</td>\n",
       "      <td>rice</td>\n",
       "    </tr>\n",
       "    <tr>\n",
       "      <th>3</th>\n",
       "      <td>74</td>\n",
       "      <td>35</td>\n",
       "      <td>40</td>\n",
       "      <td>26.491096</td>\n",
       "      <td>80.158363</td>\n",
       "      <td>6.980401</td>\n",
       "      <td>242.864034</td>\n",
       "      <td>rice</td>\n",
       "    </tr>\n",
       "    <tr>\n",
       "      <th>4</th>\n",
       "      <td>78</td>\n",
       "      <td>42</td>\n",
       "      <td>42</td>\n",
       "      <td>20.130175</td>\n",
       "      <td>81.604873</td>\n",
       "      <td>7.628473</td>\n",
       "      <td>262.717340</td>\n",
       "      <td>rice</td>\n",
       "    </tr>\n",
       "  </tbody>\n",
       "</table>\n",
       "</div>"
      ],
      "text/plain": [
       "    N   P   K  temperature   humidity        ph    rainfall label\n",
       "0  90  42  43    20.879744  82.002744  6.502985  202.935536  rice\n",
       "1  85  58  41    21.770462  80.319644  7.038096  226.655537  rice\n",
       "2  60  55  44    23.004459  82.320763  7.840207  263.964248  rice\n",
       "3  74  35  40    26.491096  80.158363  6.980401  242.864034  rice\n",
       "4  78  42  42    20.130175  81.604873  7.628473  262.717340  rice"
      ]
     },
     "execution_count": 29,
     "metadata": {},
     "output_type": "execute_result"
    }
   ],
   "source": [
    "# lets check the head of the dataset\n",
    "Agri.head()"
   ]
  },
  {
   "cell_type": "code",
   "execution_count": 30,
   "id": "417abe56",
   "metadata": {},
   "outputs": [
    {
     "name": "stdout",
     "output_type": "stream",
     "text": [
      "The Suggested Crop For the given climatic condition is: ['rice']\n"
     ]
    }
   ],
   "source": [
    "predication= model.predict((np.array([[90,40,40,20,80,7,200]])))\n",
    "\n",
    "print(\"The Suggested Crop For the given climatic condition is:\", predication)"
   ]
  },
  {
   "cell_type": "code",
   "execution_count": 31,
   "id": "02d893a0",
   "metadata": {},
   "outputs": [
    {
     "data": {
      "text/html": [
       "<div>\n",
       "<style scoped>\n",
       "    .dataframe tbody tr th:only-of-type {\n",
       "        vertical-align: middle;\n",
       "    }\n",
       "\n",
       "    .dataframe tbody tr th {\n",
       "        vertical-align: top;\n",
       "    }\n",
       "\n",
       "    .dataframe thead th {\n",
       "        text-align: right;\n",
       "    }\n",
       "</style>\n",
       "<table border=\"1\" class=\"dataframe\">\n",
       "  <thead>\n",
       "    <tr style=\"text-align: right;\">\n",
       "      <th></th>\n",
       "      <th>N</th>\n",
       "      <th>P</th>\n",
       "      <th>K</th>\n",
       "      <th>temperature</th>\n",
       "      <th>humidity</th>\n",
       "      <th>ph</th>\n",
       "      <th>rainfall</th>\n",
       "      <th>label</th>\n",
       "    </tr>\n",
       "  </thead>\n",
       "  <tbody>\n",
       "    <tr>\n",
       "      <th>1600</th>\n",
       "      <td>22</td>\n",
       "      <td>30</td>\n",
       "      <td>12</td>\n",
       "      <td>15.781442</td>\n",
       "      <td>92.510777</td>\n",
       "      <td>6.354007</td>\n",
       "      <td>119.035002</td>\n",
       "      <td>orange</td>\n",
       "    </tr>\n",
       "    <tr>\n",
       "      <th>1601</th>\n",
       "      <td>37</td>\n",
       "      <td>6</td>\n",
       "      <td>13</td>\n",
       "      <td>26.030973</td>\n",
       "      <td>91.508193</td>\n",
       "      <td>7.511755</td>\n",
       "      <td>101.284774</td>\n",
       "      <td>orange</td>\n",
       "    </tr>\n",
       "    <tr>\n",
       "      <th>1602</th>\n",
       "      <td>27</td>\n",
       "      <td>13</td>\n",
       "      <td>6</td>\n",
       "      <td>13.360506</td>\n",
       "      <td>91.356082</td>\n",
       "      <td>7.335158</td>\n",
       "      <td>111.226688</td>\n",
       "      <td>orange</td>\n",
       "    </tr>\n",
       "    <tr>\n",
       "      <th>1603</th>\n",
       "      <td>7</td>\n",
       "      <td>16</td>\n",
       "      <td>9</td>\n",
       "      <td>18.879577</td>\n",
       "      <td>92.043045</td>\n",
       "      <td>7.813917</td>\n",
       "      <td>114.665951</td>\n",
       "      <td>orange</td>\n",
       "    </tr>\n",
       "    <tr>\n",
       "      <th>1604</th>\n",
       "      <td>20</td>\n",
       "      <td>7</td>\n",
       "      <td>9</td>\n",
       "      <td>29.477417</td>\n",
       "      <td>91.578029</td>\n",
       "      <td>7.129137</td>\n",
       "      <td>111.172750</td>\n",
       "      <td>orange</td>\n",
       "    </tr>\n",
       "  </tbody>\n",
       "</table>\n",
       "</div>"
      ],
      "text/plain": [
       "       N   P   K  temperature   humidity        ph    rainfall   label\n",
       "1600  22  30  12    15.781442  92.510777  6.354007  119.035002  orange\n",
       "1601  37   6  13    26.030973  91.508193  7.511755  101.284774  orange\n",
       "1602  27  13   6    13.360506  91.356082  7.335158  111.226688  orange\n",
       "1603   7  16   9    18.879577  92.043045  7.813917  114.665951  orange\n",
       "1604  20   7   9    29.477417  91.578029  7.129137  111.172750  orange"
      ]
     },
     "execution_count": 31,
     "metadata": {},
     "output_type": "execute_result"
    }
   ],
   "source": [
    "#lets check the model for Orange also\n",
    "Agri[Agri['label']=='orange'].head()"
   ]
  },
  {
   "cell_type": "code",
   "execution_count": 32,
   "id": "cc8c447a",
   "metadata": {},
   "outputs": [
    {
     "name": "stdout",
     "output_type": "stream",
     "text": [
      "The Suggested Crop For the given climatic condition is: ['orange']\n"
     ]
    }
   ],
   "source": [
    "# giving the random value\n",
    "predication= model.predict((np.array([[23,12,3,20,90,5,100]])))\n",
    "# the value passes are random so we can see you predication \n",
    "print(\"The Suggested Crop For the given climatic condition is:\", predication)"
   ]
  },
  {
   "cell_type": "markdown",
   "id": "d07b2de5",
   "metadata": {},
   "source": [
    "# Data Science"
   ]
  },
  {
   "cell_type": "code",
   "execution_count": 33,
   "id": "e94d32be",
   "metadata": {},
   "outputs": [
    {
     "name": "stdout",
     "output_type": "stream",
     "text": [
      "The Suggested Crop For the given climatic condition is: ['mango']\n"
     ]
    }
   ],
   "source": [
    "# giving the random value\n",
    "predication= model.predict((np.array([[30,9,40,30,14,9,45]])))\n",
    "# the value passes are random so we can see you predication \n",
    "print(\"The Suggested Crop For the given climatic condition is:\", predication)"
   ]
  },
  {
   "cell_type": "code",
   "execution_count": 34,
   "id": "98d6a9c1",
   "metadata": {},
   "outputs": [],
   "source": [
    "#front end"
   ]
  },
  {
   "cell_type": "code",
   "execution_count": 37,
   "id": "e1293308",
   "metadata": {},
   "outputs": [],
   "source": [
    "import pickle\n",
    "import base64\n",
    "pickle.dump(model,open('model.pkl','wb'))\n",
    "# Step 2: Serialize the content\n",
    "serialized_data = pickle.dumps(Agri)\n",
    "\n",
    "# Step 3: Encode as base64\n",
    "encoded_data = base64.b64encode(serialized_data)\n",
    "\n",
    "pickle.dump(km,open('standscaler.pkl','wb'))\n"
   ]
  },
  {
   "cell_type": "code",
   "execution_count": 38,
   "id": "353f4437",
   "metadata": {},
   "outputs": [
    {
     "name": "stdout",
     "output_type": "stream",
     "text": [
      "1.2.1\n"
     ]
    }
   ],
   "source": [
    "import sklearn \n",
    "print(sklearn.__version__)"
   ]
  },
  {
   "cell_type": "code",
   "execution_count": null,
   "id": "52915b37",
   "metadata": {},
   "outputs": [],
   "source": []
  }
 ],
 "metadata": {
  "kernelspec": {
   "display_name": "Python 3 (ipykernel)",
   "language": "python",
   "name": "python3"
  },
  "language_info": {
   "codemirror_mode": {
    "name": "ipython",
    "version": 3
   },
   "file_extension": ".py",
   "mimetype": "text/x-python",
   "name": "python",
   "nbconvert_exporter": "python",
   "pygments_lexer": "ipython3",
   "version": "3.10.9"
  }
 },
 "nbformat": 4,
 "nbformat_minor": 5
}
